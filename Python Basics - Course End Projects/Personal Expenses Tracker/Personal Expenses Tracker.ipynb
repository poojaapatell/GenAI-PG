{
 "cells": [
  {
   "cell_type": "markdown",
   "metadata": {},
   "source": [
    "## Problem statement"
   ]
  },
  {
   "cell_type": "markdown",
   "metadata": {},
   "source": [
    "In today’s fast-paced world, individuals need to track and manage their expenses effectively. Your task is to build a personal expense tracker that allows users to log daily expenses, categorize them, and track spending against a monthly budget. The tracker should also be able to save and load expenses from a file for future reference.\n",
    "\n",
    "Objectives:\n",
    "\n",
    "1.Design and implement a personal expense tracker that enables users to manage their expenses\n",
    "\n",
    "2.Allow users to categorize expenses and set monthly budgets \n",
    "\n",
    "3.Implement file-handling functionality to save and load expense data\n",
    "\n",
    "4.Create an interactive, menu-driven interface for ease of use"
   ]
  },
  {
   "cell_type": "markdown",
   "metadata": {},
   "source": [
    "#### Step 1: Add Expenses\n",
    "\n",
    "Create a function to prompt the user for expense details. Ensure you ask for:\n",
    "\n",
    "  1. date of expense in YYYY-MM-DD\n",
    "  2. category of expense\n",
    "  3. amount spent\n",
    "  4. brief description of the expense\n",
    "\n",
    "Store the expense in a list as a dictionary, where each dictionary includes the date, category, amount, and description as key-value pairs "
   ]
  },
  {
   "cell_type": "code",
   "execution_count": null,
   "metadata": {},
   "outputs": [],
   "source": [
    "# imports and initiliazation\n",
    "\n",
    "import csv\n",
    "import os\n",
    "from datetime import datetime\n",
    "\n",
    "expenses = []\n",
    "monthly_budget = None\n",
    "csv_file = 'expenses.csv'"
   ]
  },
  {
   "cell_type": "code",
   "execution_count": null,
   "metadata": {},
   "outputs": [],
   "source": [
    "def add_expense():\n",
    "    try:\n",
    "        date_str = input(\"Enter the date in YYYY-MM-DD format: \")\n",
    "        category = input(\"Enter category (e.g., Food, Travel): \").strip()\n",
    "        amount = float(input(\"Enter amount spent: \"))\n",
    "        description = input(\"Enter a brief description: \").strip()\n",
    "        \n",
    "        # Store expenses in a list as a dictionary\n",
    "        expense = {\n",
    "            'date': date_str,\n",
    "            'category': category,\n",
    "            'amount': amount,\n",
    "            'description': description\n",
    "        }\n",
    "        \n",
    "        expenses.append(expense)\n",
    "        print(\"Expense appeneded successfully!\")\n",
    "    except ValueError as e:\n",
    "        print(\"Invalid Input!\")"
   ]
  },
  {
   "cell_type": "markdown",
   "metadata": {},
   "source": [
    "#### Step 2: View Expenses\n",
    "\n",
    "Write a function to retrieve and display all stored expenses.\n",
    "\n",
    "    - Ensure function loops through the list of expenses and displays all details \n",
    "    \n",
    "Validate the data before displaying\n",
    "\n",
    "    - If details are missing, then skip entry and notify user that it is incomplete."
   ]
  },
  {
   "cell_type": "code",
   "execution_count": null,
   "metadata": {},
   "outputs": [],
   "source": [
    "def view_expenses():\n",
    "    if not expenses:\n",
    "        print(\"No expenses to show.\")\n",
    "        return\n",
    "\n",
    "    print(\"All Expenses\")\n",
    "    for i, exp in enumerate(expenses, start=1):\n",
    "        try:\n",
    "            if all(k in exp and exp[k] not in [None, '', []] for k in ['date', 'category', 'amount', 'description']):\n",
    "                print(f\"{i}. {exp['date']} | {exp['category']} | ${float(exp['amount']):.2f} | {exp['description']}\")\n",
    "            else:\n",
    "                print(f\"{i}. Incomplete expense entry. Skipping.\")\n",
    "        except Exception as e:\n",
    "            print(f\"Error displaying expense #{i}: {e}\")"
   ]
  },
  {
   "cell_type": "markdown",
   "metadata": {},
   "source": [
    "#### Set and Track the Budget:\n",
    "\n",
    "1. Create a function that allows the user to input a monthly budget. Promp the user to enter the total amount they want to budget for the month\n",
    "\n",
    "2. Create another function that calculates the total expenses recorded so far:\n",
    "    1. Compare the total with user's monthly budget\n",
    "    2. if total expenses > budget, display warning\n",
    "    3. if expenses within budget, display remaining balance"
   ]
  },
  {
   "cell_type": "code",
   "execution_count": null,
   "metadata": {},
   "outputs": [],
   "source": [
    "def set_budget():\n",
    "    global monthly_budget\n",
    "    \n",
    "    try:\n",
    "        monthly_budget = float(input(\"Enter monthly budget amount: \"))\n",
    "        print(f\"Monthly budget is ${monthly_budget:.2f}\")\n",
    "    except ValueError:\n",
    "        print(\"Invalid amount. Enter a number.\")"
   ]
  },
  {
   "cell_type": "code",
   "execution_count": null,
   "metadata": {},
   "outputs": [],
   "source": [
    "def track_budget():\n",
    "    if monthly_budget is None:\n",
    "        print(\"Please set a monthly budget first.\")\n",
    "        return\n",
    "    \n",
    "    total_spent = sum(exp['amount'] for exp in expenses)\n",
    "    print(f\"Total spent: ${total_spent:.2f}\")\n",
    "    \n",
    "    if total_spent > monthly_budget:\n",
    "        print(\"Warning: Budget exceeded!\")\n",
    "    else:\n",
    "        remaining = monthly_budget = total_spent\n",
    "        print(f\"You have ${remaining:.2f} left for the month.\")"
   ]
  },
  {
   "cell_type": "markdown",
   "metadata": {},
   "source": [
    "#### Save and Load Expenses:\n",
    "\n",
    "1. Implement a function to save all expenses to a CSV file, with each row containing the details of every expense.\n",
    "2. Create function to load expenses from CSV file. When program starts it should:\n",
    "\n",
    "      a. read the saved data from file\n",
    "     \n",
    "      b. load it back into list of expenses so the user can see previous expenses and continue from where they left off"
   ]
  },
  {
   "cell_type": "code",
   "execution_count": null,
   "metadata": {},
   "outputs": [],
   "source": [
    "def save_expenses():\n",
    "    try:\n",
    "        with open(csv_file, 'w', newline='') as file:\n",
    "            writer = csv.DictWriter(file, fieldnames=['date', 'category', 'amount', 'description'])\n",
    "            writer.writeheader()\n",
    "            writer.writerows(expenses)\n",
    "        print(f\"Expenses saved to '{csv_file}'.\")\n",
    "    except IOError as e:\n",
    "        print(f\"Failed to save expenses: {e}\")"
   ]
  },
  {
   "cell_type": "code",
   "execution_count": null,
   "metadata": {},
   "outputs": [],
   "source": [
    "def load_expenses():\n",
    "    if not os.path.exists(csv_file):\n",
    "        return\n",
    "    try:\n",
    "        with open(csv_file, 'r') as file:\n",
    "            reader = csv.DictReader(file)\n",
    "            for row in reader:\n",
    "                if all(field in row and row[field].strip() for field in ['date', 'category', 'amount', 'description']):\n",
    "                    try:\n",
    "                        row['amount'] = float(row['amount'])  # Convert amount to float\n",
    "                        expenses.append(row)\n",
    "                    except ValueError:\n",
    "                        print(f\"Skipping row with invalid amount: {row}\")\n",
    "                else:\n",
    "                    print(f\"Skipping incomplete row: {row}\")\n",
    "        print(\"Previous expenses loaded.\")\n",
    "    except IOError as e:\n",
    "        print(f\"Failed to load expenses: {e}\")"
   ]
  },
  {
   "cell_type": "markdown",
   "metadata": {},
   "source": [
    "#### Create an interactive menu:\n",
    "1.  Build a function to display a menu with the following options:\n",
    "\n",
    "      a. Add expense\n",
    "      \n",
    "      b. View expenses\n",
    "      \n",
    "      c. Track budget\n",
    "      \n",
    "      d. Save expenses\n",
    "      \n",
    "      e. Exit\n",
    "      \n",
    "2. Allow the user to enter a number to choose an option\n",
    "\n",
    "3. Implement the following conditions:\n",
    "\n",
    "\n",
    "     a. If the user selects option 1, call the function to add an expense\n",
    "     \n",
    "     b. If the user selects option 2, call the function to view expenses\n",
    "     \n",
    "     c. If the user selects option 3, call the function to track the budget\n",
    "     \n",
    "     d. If the user selects option 4, call the function to save expenses to the file\n",
    "     \n",
    "     e. If the user selects option 5, save the expenses and exit the program"
   ]
  },
  {
   "cell_type": "code",
   "execution_count": null,
   "metadata": {},
   "outputs": [],
   "source": [
    "def show_menu():\n",
    "    while True:\n",
    "        print(\"--- Personal Expense Tracker Menu ---\")\n",
    "        print(\"1. Add Expense\")\n",
    "        print(\"2. View Expenses\")\n",
    "        print(\"3. Track Budget\")\n",
    "        print(\"4. Save Expenses\")\n",
    "        print(\"5. Exit\")\n",
    "        choice = input(\"Enter your choice (1-5): \")\n",
    "\n",
    "        if choice == '1':\n",
    "            add_expense()\n",
    "        elif choice == '2':\n",
    "            view_expenses()\n",
    "        elif choice == '3':\n",
    "            if monthly_budget is None:\n",
    "                set_budget()\n",
    "            track_budget()\n",
    "        elif choice == '4':\n",
    "            save_expenses()\n",
    "        elif choice == '5':\n",
    "            save_expenses()\n",
    "            print(\"Goodbye!\")\n",
    "            break\n",
    "        else:\n",
    "            print(\"Invalid choice. Please select a number from 1 to 5\")"
   ]
  },
  {
   "cell_type": "markdown",
   "metadata": {},
   "source": [
    "#### Run the Application"
   ]
  },
  {
   "cell_type": "code",
   "execution_count": null,
   "metadata": {
    "scrolled": true
   },
   "outputs": [],
   "source": [
    "load_expenses()\n",
    "show_menu()"
   ]
  },
  {
   "cell_type": "code",
   "execution_count": null,
   "metadata": {},
   "outputs": [],
   "source": []
  }
 ],
 "metadata": {
  "kernelspec": {
   "display_name": "Python 3",
   "language": "python",
   "name": "python3"
  },
  "language_info": {
   "codemirror_mode": {
    "name": "ipython",
    "version": 3
   },
   "file_extension": ".py",
   "mimetype": "text/x-python",
   "name": "python",
   "nbconvert_exporter": "python",
   "pygments_lexer": "ipython3",
   "version": "3.8.5"
  }
 },
 "nbformat": 4,
 "nbformat_minor": 4
}
